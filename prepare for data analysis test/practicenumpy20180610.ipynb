{
 "cells": [
  {
   "cell_type": "code",
   "execution_count": 1,
   "metadata": {},
   "outputs": [],
   "source": [
    "import numpy as np"
   ]
  },
  {
   "cell_type": "code",
   "execution_count": 2,
   "metadata": {},
   "outputs": [],
   "source": [
    "data1 = [6,12,3,4]"
   ]
  },
  {
   "cell_type": "code",
   "execution_count": 3,
   "metadata": {},
   "outputs": [
    {
     "data": {
      "text/plain": [
       "array([ 6, 12,  3,  4])"
      ]
     },
     "execution_count": 3,
     "metadata": {},
     "output_type": "execute_result"
    }
   ],
   "source": [
    "arr1 = np.array(data1)\n",
    "arr1"
   ]
  },
  {
   "cell_type": "code",
   "execution_count": 4,
   "metadata": {},
   "outputs": [
    {
     "data": {
      "text/plain": [
       "(4,)"
      ]
     },
     "execution_count": 4,
     "metadata": {},
     "output_type": "execute_result"
    }
   ],
   "source": [
    "arr1.shape"
   ]
  },
  {
   "cell_type": "code",
   "execution_count": 5,
   "metadata": {},
   "outputs": [],
   "source": [
    "data2 = [[1,2,3,4],\n",
    "        [5,6,7,8]]"
   ]
  },
  {
   "cell_type": "code",
   "execution_count": 6,
   "metadata": {},
   "outputs": [
    {
     "data": {
      "text/plain": [
       "array([[1, 2, 3, 4],\n",
       "       [5, 6, 7, 8]])"
      ]
     },
     "execution_count": 6,
     "metadata": {},
     "output_type": "execute_result"
    }
   ],
   "source": [
    "arr2 = np.array(data2)\n",
    "arr2"
   ]
  },
  {
   "cell_type": "code",
   "execution_count": 7,
   "metadata": {},
   "outputs": [
    {
     "data": {
      "text/plain": [
       "(2, 4)"
      ]
     },
     "execution_count": 7,
     "metadata": {},
     "output_type": "execute_result"
    }
   ],
   "source": [
    "arr2.shape"
   ]
  },
  {
   "cell_type": "code",
   "execution_count": 8,
   "metadata": {},
   "outputs": [
    {
     "data": {
      "text/plain": [
       "array([[ 0.,  0.,  0.,  0.,  0.,  0.],\n",
       "       [ 0.,  0.,  0.,  0.,  0.,  0.],\n",
       "       [ 0.,  0.,  0.,  0.,  0.,  0.]])"
      ]
     },
     "execution_count": 8,
     "metadata": {},
     "output_type": "execute_result"
    }
   ],
   "source": [
    "np.zeros([3,6])"
   ]
  },
  {
   "cell_type": "code",
   "execution_count": 9,
   "metadata": {},
   "outputs": [
    {
     "data": {
      "text/plain": [
       "array([ 1.,  1.,  1.,  1.,  1.,  1.,  1.,  1.,  1.,  1.])"
      ]
     },
     "execution_count": 9,
     "metadata": {},
     "output_type": "execute_result"
    }
   ],
   "source": [
    "np.ones(10)"
   ]
  },
  {
   "cell_type": "code",
   "execution_count": 11,
   "metadata": {},
   "outputs": [
    {
     "data": {
      "text/plain": [
       "array([ 0,  1,  2,  3,  4,  5,  6,  7,  8,  9, 10, 11, 12, 13, 14])"
      ]
     },
     "execution_count": 11,
     "metadata": {},
     "output_type": "execute_result"
    }
   ],
   "source": [
    "np.arange(15)"
   ]
  },
  {
   "cell_type": "code",
   "execution_count": 12,
   "metadata": {},
   "outputs": [
    {
     "data": {
      "text/plain": [
       "dtype('int32')"
      ]
     },
     "execution_count": 12,
     "metadata": {},
     "output_type": "execute_result"
    }
   ],
   "source": [
    "arr1.dtype"
   ]
  },
  {
   "cell_type": "code",
   "execution_count": 13,
   "metadata": {},
   "outputs": [
    {
     "data": {
      "text/plain": [
       "dtype('int32')"
      ]
     },
     "execution_count": 13,
     "metadata": {},
     "output_type": "execute_result"
    }
   ],
   "source": [
    "arr2.dtype"
   ]
  },
  {
   "cell_type": "code",
   "execution_count": 14,
   "metadata": {},
   "outputs": [
    {
     "data": {
      "text/plain": [
       "array([[ 7, 14,  6,  8],\n",
       "       [11, 18, 10, 12]])"
      ]
     },
     "execution_count": 14,
     "metadata": {},
     "output_type": "execute_result"
    }
   ],
   "source": [
    "arr1 + arr2"
   ]
  },
  {
   "cell_type": "code",
   "execution_count": 15,
   "metadata": {},
   "outputs": [],
   "source": [
    "arr = np.arange(10)"
   ]
  },
  {
   "cell_type": "code",
   "execution_count": 16,
   "metadata": {},
   "outputs": [
    {
     "data": {
      "text/plain": [
       "array([0, 1, 2, 3, 4, 5, 6, 7, 8, 9])"
      ]
     },
     "execution_count": 16,
     "metadata": {},
     "output_type": "execute_result"
    }
   ],
   "source": [
    "arr"
   ]
  },
  {
   "cell_type": "code",
   "execution_count": 17,
   "metadata": {},
   "outputs": [
    {
     "data": {
      "text/plain": [
       "5"
      ]
     },
     "execution_count": 17,
     "metadata": {},
     "output_type": "execute_result"
    }
   ],
   "source": [
    "arr[5]"
   ]
  },
  {
   "cell_type": "code",
   "execution_count": 19,
   "metadata": {},
   "outputs": [
    {
     "data": {
      "text/plain": [
       "array([5, 6, 7, 8, 9])"
      ]
     },
     "execution_count": 19,
     "metadata": {},
     "output_type": "execute_result"
    }
   ],
   "source": [
    "arr[5:]"
   ]
  },
  {
   "cell_type": "code",
   "execution_count": 20,
   "metadata": {},
   "outputs": [],
   "source": [
    "arr[5:] = 12"
   ]
  },
  {
   "cell_type": "code",
   "execution_count": 21,
   "metadata": {},
   "outputs": [
    {
     "data": {
      "text/plain": [
       "array([ 0,  1,  2,  3,  4, 12, 12, 12, 12, 12])"
      ]
     },
     "execution_count": 21,
     "metadata": {},
     "output_type": "execute_result"
    }
   ],
   "source": [
    "arr"
   ]
  },
  {
   "cell_type": "code",
   "execution_count": 22,
   "metadata": {},
   "outputs": [],
   "source": [
    "data = np.random.randn(7,4)"
   ]
  },
  {
   "cell_type": "code",
   "execution_count": 23,
   "metadata": {},
   "outputs": [
    {
     "data": {
      "text/plain": [
       "array([[-0.05534528,  1.59082216, -0.37640239, -0.21220787],\n",
       "       [ 0.70169301,  1.39492817, -1.55668056, -0.41488667],\n",
       "       [ 0.84187581,  0.35850294, -1.99773987, -0.34996474],\n",
       "       [ 0.06148863, -0.89227374, -0.24961439, -1.12010958],\n",
       "       [ 1.34350644, -0.44795621,  0.77346418,  0.53333399],\n",
       "       [ 1.10480029,  2.35996409,  0.42421181,  0.67122852],\n",
       "       [-0.3768283 , -0.71707496, -0.73728444,  0.44362682]])"
      ]
     },
     "execution_count": 23,
     "metadata": {},
     "output_type": "execute_result"
    }
   ],
   "source": [
    "data"
   ]
  },
  {
   "cell_type": "code",
   "execution_count": 24,
   "metadata": {},
   "outputs": [],
   "source": [
    "arr = np.arange(1,10)"
   ]
  },
  {
   "cell_type": "code",
   "execution_count": 25,
   "metadata": {},
   "outputs": [
    {
     "data": {
      "text/plain": [
       "array([1, 2, 3, 4, 5, 6, 7, 8, 9])"
      ]
     },
     "execution_count": 25,
     "metadata": {},
     "output_type": "execute_result"
    }
   ],
   "source": [
    "arr"
   ]
  },
  {
   "cell_type": "code",
   "execution_count": 26,
   "metadata": {},
   "outputs": [
    {
     "data": {
      "text/plain": [
       "array([ 1.        ,  1.41421356,  1.73205081,  2.        ,  2.23606798,\n",
       "        2.44948974,  2.64575131,  2.82842712,  3.        ])"
      ]
     },
     "execution_count": 26,
     "metadata": {},
     "output_type": "execute_result"
    }
   ],
   "source": [
    "np.sqrt(arr)"
   ]
  },
  {
   "cell_type": "code",
   "execution_count": 27,
   "metadata": {},
   "outputs": [
    {
     "data": {
      "text/plain": [
       "array([ 0.        ,  0.30103   ,  0.47712125,  0.60205999,  0.69897   ,\n",
       "        0.77815125,  0.84509804,  0.90308999,  0.95424251])"
      ]
     },
     "execution_count": 27,
     "metadata": {},
     "output_type": "execute_result"
    }
   ],
   "source": [
    "np.log10(arr)"
   ]
  },
  {
   "cell_type": "code",
   "execution_count": 28,
   "metadata": {},
   "outputs": [],
   "source": [
    "x = np.random.randn(9)\n",
    "y = np.random.randn(9)"
   ]
  },
  {
   "cell_type": "code",
   "execution_count": 29,
   "metadata": {},
   "outputs": [
    {
     "data": {
      "text/plain": [
       "array([-0.20738854,  1.00627156,  2.12965165, -0.76781974, -0.37740204,\n",
       "       -0.33493777, -0.8042131 ,  1.39659799, -0.93691913])"
      ]
     },
     "execution_count": 29,
     "metadata": {},
     "output_type": "execute_result"
    }
   ],
   "source": [
    "x"
   ]
  },
  {
   "cell_type": "code",
   "execution_count": 30,
   "metadata": {},
   "outputs": [
    {
     "data": {
      "text/plain": [
       "array([ 0.26370532, -0.88338789,  0.30768   ,  0.05410303,  1.02878776,\n",
       "       -0.2317974 ,  1.14412043,  1.43118746,  2.14182527])"
      ]
     },
     "execution_count": 30,
     "metadata": {},
     "output_type": "execute_result"
    }
   ],
   "source": [
    "y"
   ]
  },
  {
   "cell_type": "code",
   "execution_count": 31,
   "metadata": {},
   "outputs": [
    {
     "data": {
      "text/plain": [
       "array([ 0.26370532,  1.00627156,  2.12965165,  0.05410303,  1.02878776,\n",
       "       -0.2317974 ,  1.14412043,  1.43118746,  2.14182527])"
      ]
     },
     "execution_count": 31,
     "metadata": {},
     "output_type": "execute_result"
    }
   ],
   "source": [
    "np.maximum(x,y)"
   ]
  },
  {
   "cell_type": "code",
   "execution_count": 32,
   "metadata": {},
   "outputs": [],
   "source": [
    "arr = np.random.randn(5,4)"
   ]
  },
  {
   "cell_type": "code",
   "execution_count": 33,
   "metadata": {},
   "outputs": [
    {
     "data": {
      "text/plain": [
       "array([[  1.12743219e-01,   6.76766849e-01,  -4.87400056e-01,\n",
       "          1.86989523e+00],\n",
       "       [ -7.01378891e-01,   2.14042997e+00,  -3.12786935e-01,\n",
       "         -2.17712245e-03],\n",
       "       [  1.64318871e+00,  -1.39358832e+00,  -1.02143294e+00,\n",
       "         -7.95993751e-01],\n",
       "       [ -2.82105578e+00,   4.97881223e-01,  -8.89986538e-01,\n",
       "          1.39582623e+00],\n",
       "       [ -1.40058960e-01,  -1.76319571e-01,   1.72471730e+00,\n",
       "         -3.52646755e-01]])"
      ]
     },
     "execution_count": 33,
     "metadata": {},
     "output_type": "execute_result"
    }
   ],
   "source": [
    "arr"
   ]
  },
  {
   "cell_type": "code",
   "execution_count": 34,
   "metadata": {},
   "outputs": [
    {
     "data": {
      "text/plain": [
       "0.96662310547104502"
      ]
     },
     "execution_count": 34,
     "metadata": {},
     "output_type": "execute_result"
    }
   ],
   "source": [
    "arr.sum()"
   ]
  },
  {
   "cell_type": "code",
   "execution_count": 35,
   "metadata": {},
   "outputs": [
    {
     "data": {
      "text/plain": [
       "array([-1.90656171,  1.74517015, -0.98688917,  2.11490383])"
      ]
     },
     "execution_count": 35,
     "metadata": {},
     "output_type": "execute_result"
    }
   ],
   "source": [
    "arr.sum(axis=0)"
   ]
  },
  {
   "cell_type": "code",
   "execution_count": 36,
   "metadata": {},
   "outputs": [
    {
     "data": {
      "text/plain": [
       "array([ 2.17200525,  1.12408702, -1.5678263 , -1.81733487,  1.05569201])"
      ]
     },
     "execution_count": 36,
     "metadata": {},
     "output_type": "execute_result"
    }
   ],
   "source": [
    "arr.sum(axis=1)"
   ]
  },
  {
   "cell_type": "code",
   "execution_count": 37,
   "metadata": {},
   "outputs": [
    {
     "data": {
      "text/plain": [
       "array([[ True,  True, False,  True],\n",
       "       [False,  True, False, False],\n",
       "       [ True, False, False, False],\n",
       "       [False,  True, False,  True],\n",
       "       [False, False,  True, False]], dtype=bool)"
      ]
     },
     "execution_count": 37,
     "metadata": {},
     "output_type": "execute_result"
    }
   ],
   "source": [
    "arr > 0"
   ]
  },
  {
   "cell_type": "code",
   "execution_count": 38,
   "metadata": {},
   "outputs": [
    {
     "data": {
      "text/plain": [
       "8"
      ]
     },
     "execution_count": 38,
     "metadata": {},
     "output_type": "execute_result"
    }
   ],
   "source": [
    "(arr > 0).sum()"
   ]
  },
  {
   "cell_type": "code",
   "execution_count": 41,
   "metadata": {},
   "outputs": [],
   "source": [
    "arr = np.random.randn(9)"
   ]
  },
  {
   "cell_type": "code",
   "execution_count": 42,
   "metadata": {},
   "outputs": [
    {
     "data": {
      "text/plain": [
       "array([ 1.23713951,  0.5390347 ,  0.2069542 , -0.38302851, -0.0587435 ,\n",
       "        1.10509711,  0.52867941, -0.89742738,  0.49519229])"
      ]
     },
     "execution_count": 42,
     "metadata": {},
     "output_type": "execute_result"
    }
   ],
   "source": [
    "arr"
   ]
  },
  {
   "cell_type": "code",
   "execution_count": 43,
   "metadata": {},
   "outputs": [
    {
     "data": {
      "text/plain": [
       "array([-0.89742738, -0.38302851, -0.0587435 ,  0.2069542 ,  0.49519229,\n",
       "        0.52867941,  0.5390347 ,  1.10509711,  1.23713951])"
      ]
     },
     "execution_count": 43,
     "metadata": {},
     "output_type": "execute_result"
    }
   ],
   "source": [
    "np.sort(arr)"
   ]
  },
  {
   "cell_type": "code",
   "execution_count": 44,
   "metadata": {},
   "outputs": [
    {
     "data": {
      "text/plain": [
       "array([ 1.23713951,  1.10509711,  0.5390347 ,  0.52867941,  0.49519229,\n",
       "        0.2069542 , -0.0587435 , -0.38302851, -0.89742738])"
      ]
     },
     "execution_count": 44,
     "metadata": {},
     "output_type": "execute_result"
    }
   ],
   "source": [
    "np.sort(arr)[::-1]"
   ]
  },
  {
   "cell_type": "code",
   "execution_count": 45,
   "metadata": {},
   "outputs": [],
   "source": [
    "arr = np.random.randn(5,3)"
   ]
  },
  {
   "cell_type": "code",
   "execution_count": 46,
   "metadata": {},
   "outputs": [
    {
     "data": {
      "text/plain": [
       "array([[ 0.2919903 , -0.33001194, -0.64002216],\n",
       "       [-0.312179  , -0.42482594, -0.99749146],\n",
       "       [ 1.37598998, -0.19071697, -0.3114135 ],\n",
       "       [-2.97797115,  0.27424471, -0.12261886],\n",
       "       [ 0.20039966, -0.42885884,  1.05092103]])"
      ]
     },
     "execution_count": 46,
     "metadata": {},
     "output_type": "execute_result"
    }
   ],
   "source": [
    "arr"
   ]
  },
  {
   "cell_type": "code",
   "execution_count": 47,
   "metadata": {},
   "outputs": [
    {
     "data": {
      "text/plain": [
       "array([[-2.97797115, -0.42885884, -0.99749146],\n",
       "       [-0.312179  , -0.42482594, -0.64002216],\n",
       "       [ 0.20039966, -0.33001194, -0.3114135 ],\n",
       "       [ 0.2919903 , -0.19071697, -0.12261886],\n",
       "       [ 1.37598998,  0.27424471,  1.05092103]])"
      ]
     },
     "execution_count": 47,
     "metadata": {},
     "output_type": "execute_result"
    }
   ],
   "source": [
    "np.sort(arr,axis=0)"
   ]
  },
  {
   "cell_type": "code",
   "execution_count": 48,
   "metadata": {},
   "outputs": [
    {
     "data": {
      "text/plain": [
       "array([[-0.64002216, -0.33001194,  0.2919903 ],\n",
       "       [-0.99749146, -0.42482594, -0.312179  ],\n",
       "       [-0.3114135 , -0.19071697,  1.37598998],\n",
       "       [-2.97797115, -0.12261886,  0.27424471],\n",
       "       [-0.42885884,  0.20039966,  1.05092103]])"
      ]
     },
     "execution_count": 48,
     "metadata": {},
     "output_type": "execute_result"
    }
   ],
   "source": [
    "np.sort(arr,axis=1)"
   ]
  },
  {
   "cell_type": "code",
   "execution_count": 49,
   "metadata": {},
   "outputs": [],
   "source": [
    "large_arr = np.random.randn(150)"
   ]
  },
  {
   "cell_type": "code",
   "execution_count": 50,
   "metadata": {},
   "outputs": [
    {
     "data": {
      "text/plain": [
       "array([ 0.7832665 ,  0.67003127, -0.3920073 , -0.32002413, -1.11484898,\n",
       "       -0.6723919 , -0.30371082,  0.50492279,  0.14059059,  2.04424814,\n",
       "        0.33472897,  0.81481455, -0.01812282,  0.84020382,  0.42863343,\n",
       "        0.59273429, -0.25055368,  0.32956846,  0.00745571, -1.45341968,\n",
       "       -0.65060559, -0.93989632, -1.46366822,  0.1827084 , -0.50831521,\n",
       "       -2.02453696, -0.92305827, -0.22139884,  0.20923996, -0.59649294,\n",
       "        0.93772629,  0.84797001, -0.58231516,  1.17183672,  0.2687077 ,\n",
       "        0.45653525, -1.00744969, -0.24468399,  0.66388767,  1.64771897,\n",
       "       -0.82872209, -0.87902901, -0.92033044,  0.40166174,  0.72833904,\n",
       "        1.23271362,  0.24843475, -0.30123051,  0.40197026,  1.07767392,\n",
       "        0.95844064,  0.03285592, -0.02807096,  0.66505499,  0.93112133,\n",
       "        1.41834563, -0.97501821, -0.71075445,  2.39074527,  0.46692517,\n",
       "        0.17976749,  0.29974621, -0.79512506, -0.05752992, -1.6673626 ,\n",
       "        1.08843196,  1.848039  , -0.23237287, -1.08469186, -0.90061858,\n",
       "       -0.1934776 ,  0.76247647,  0.63530082,  0.46890741, -0.10661465,\n",
       "        0.28960688,  0.31825382, -0.11769172, -0.22411931, -1.41566278,\n",
       "       -0.58524321, -1.11814727, -0.35887517,  0.41349936, -1.08408456,\n",
       "        0.53708471,  0.76701463, -1.02822273, -0.41532352, -0.72458117,\n",
       "        0.17342728,  0.08900961, -0.22198377, -1.7561408 , -0.30661235,\n",
       "        0.65330195, -0.25869534,  1.45249769, -1.00757998,  0.6083996 ,\n",
       "       -0.4952546 , -0.20002579,  0.04429759,  0.02895766,  0.11767508,\n",
       "        0.19841655, -1.84942463, -0.91616801,  0.07027778,  0.74871604,\n",
       "       -2.67717546, -0.960784  ,  0.22380419,  0.62179235,  0.64838394,\n",
       "       -0.52567857, -0.58620458,  0.02913931,  0.27550282,  1.13440893,\n",
       "        1.00493432,  0.63382537,  0.75774325, -1.0918519 , -1.80954835,\n",
       "        1.96599851, -0.59991442,  1.21670591, -0.61771647, -1.2112275 ,\n",
       "       -0.10432123,  0.4935821 , -0.87144928, -0.07995912,  1.54883567,\n",
       "        0.79122588,  1.07091538,  0.16282224,  0.48171025,  1.1212412 ,\n",
       "        0.06114851, -0.22418369, -0.44002683,  0.54550801, -0.59470246,\n",
       "       -1.48967991,  0.06213007, -0.26621538, -0.97189439,  0.40815732])"
      ]
     },
     "execution_count": 50,
     "metadata": {},
     "output_type": "execute_result"
    }
   ],
   "source": [
    "large_arr"
   ]
  },
  {
   "cell_type": "code",
   "execution_count": 53,
   "metadata": {},
   "outputs": [
    {
     "data": {
      "text/plain": [
       "array([-2.67717546, -2.02453696, -1.84942463, -1.80954835, -1.7561408 ,\n",
       "       -1.6673626 , -1.48967991, -1.46366822, -1.45341968, -1.41566278,\n",
       "       -1.2112275 , -1.11814727, -1.11484898, -1.0918519 , -1.08469186,\n",
       "       -1.08408456, -1.02822273, -1.00757998, -1.00744969, -0.97501821,\n",
       "       -0.97189439, -0.960784  , -0.93989632, -0.92305827, -0.92033044,\n",
       "       -0.91616801, -0.90061858, -0.87902901, -0.87144928, -0.82872209,\n",
       "       -0.79512506, -0.72458117, -0.71075445, -0.6723919 , -0.65060559,\n",
       "       -0.61771647, -0.59991442, -0.59649294, -0.59470246, -0.58620458,\n",
       "       -0.58524321, -0.58231516, -0.52567857, -0.50831521, -0.4952546 ,\n",
       "       -0.44002683, -0.41532352, -0.3920073 , -0.35887517, -0.32002413,\n",
       "       -0.30661235, -0.30371082, -0.30123051, -0.26621538, -0.25869534,\n",
       "       -0.25055368, -0.24468399, -0.23237287, -0.22418369, -0.22411931,\n",
       "       -0.22198377, -0.22139884, -0.20002579, -0.1934776 , -0.11769172,\n",
       "       -0.10661465, -0.10432123, -0.07995912, -0.05752992, -0.02807096,\n",
       "       -0.01812282,  0.00745571,  0.02895766,  0.02913931,  0.03285592,\n",
       "        0.04429759,  0.06114851,  0.06213007,  0.07027778,  0.08900961,\n",
       "        0.11767508,  0.14059059,  0.16282224,  0.17342728,  0.17976749,\n",
       "        0.1827084 ,  0.19841655,  0.20923996,  0.22380419,  0.24843475,\n",
       "        0.2687077 ,  0.27550282,  0.28960688,  0.29974621,  0.31825382,\n",
       "        0.32956846,  0.33472897,  0.40166174,  0.40197026,  0.40815732,\n",
       "        0.41349936,  0.42863343,  0.45653525,  0.46692517,  0.46890741,\n",
       "        0.48171025,  0.4935821 ,  0.50492279,  0.53708471,  0.54550801,\n",
       "        0.59273429,  0.6083996 ,  0.62179235,  0.63382537,  0.63530082,\n",
       "        0.64838394,  0.65330195,  0.66388767,  0.66505499,  0.67003127,\n",
       "        0.72833904,  0.74871604,  0.75774325,  0.76247647,  0.76701463,\n",
       "        0.7832665 ,  0.79122588,  0.81481455,  0.84020382,  0.84797001,\n",
       "        0.93112133,  0.93772629,  0.95844064,  1.00493432,  1.07091538,\n",
       "        1.07767392,  1.08843196,  1.1212412 ,  1.13440893,  1.17183672,\n",
       "        1.21670591,  1.23271362,  1.41834563,  1.45249769,  1.54883567,\n",
       "        1.64771897,  1.848039  ,  1.96599851,  2.04424814,  2.39074527])"
      ]
     },
     "execution_count": 53,
     "metadata": {},
     "output_type": "execute_result"
    }
   ],
   "source": [
    "np.sort(large_arr)"
   ]
  },
  {
   "cell_type": "code",
   "execution_count": 54,
   "metadata": {},
   "outputs": [
    {
     "data": {
      "text/plain": [
       "1.41834562627973"
      ]
     },
     "execution_count": 54,
     "metadata": {},
     "output_type": "execute_result"
    }
   ],
   "source": [
    "np.sort(large_arr)[::-1][int(0.05*len(large_arr))]"
   ]
  },
  {
   "cell_type": "code",
   "execution_count": null,
   "metadata": {},
   "outputs": [],
   "source": []
  }
 ],
 "metadata": {
  "kernelspec": {
   "display_name": "Python 3",
   "language": "python",
   "name": "python3"
  },
  "language_info": {
   "codemirror_mode": {
    "name": "ipython",
    "version": 3
   },
   "file_extension": ".py",
   "mimetype": "text/x-python",
   "name": "python",
   "nbconvert_exporter": "python",
   "pygments_lexer": "ipython3",
   "version": "3.6.3"
  }
 },
 "nbformat": 4,
 "nbformat_minor": 2
}
