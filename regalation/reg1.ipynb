{
 "cells": [
  {
   "cell_type": "markdown",
   "metadata": {},
   "source": [
    "# 정규식 간단한 요약\n",
    "\n",
    "---\n",
    "\n",
    "정규 표현식의 규칙에 대해 간단히 요약한 내용.\n",
    "\n",
    " \n",
    "> ^           라인의 처음을 매칭\n",
    "\n",
    "> $           라인의 끝을 매칭\n",
    "\n",
    "> .           임의의 문자를 매칭 (와일드 카드)\n",
    "\n",
    "> \\s          공백 문자를 매칭\n",
    "\n",
    "> \\S          공백이 아닌 문자를 매칭\n",
    "\n",
    "> \\*          바로 앞선 문자에 적용되고 0 혹은 그 이상의 앞선 문자와 매칭을 표기함.\n",
    "\n",
    "> *?          바로 앞선 문자에 적용되고 0 혹은 그 이상의 앞선 문자와 매칭을 탐욕적이지 않은 방식으로 표기함.\n",
    "\n",
    "> \\+          바로 앞선 문자에 적용되고 1 혹은 그 이상의 앞선 문자와 매칭을 표기함\n",
    "\n",
    "> +?          바로 앞선 문자에 적용되고 1 혹은 그 이상의 앞선 문자와 매칭을 탐욕적이지 않은 방식으로 표기함.\n",
    "\n",
    "> [aeiou]     명세된 집합 문자에 존재하는 단일 문자와 매칭. “a”, “e”, “i”, “o”, “u” 문자만 매칭되는 예제\n",
    "\n",
    "> [a-z0-9]    - 기호로 문자 범위를 명세할 수 있다. 소문자이거나 숫자인 단일 문자만 매칭되는 예제.\n",
    "\n",
    "> ( ) 괄호가 정규표현식에 추가될 때, 매칭을 무시한다. 하지만 findall()을 사용 할 때 전체 문자열보다 매칭된 문자열의 상세한 부속 문자열을 추출할 수 있게 한다."
   ]
  },
  {
   "cell_type": "markdown",
   "metadata": {},
   "source": [
    "# 연습"
   ]
  },
  {
   "cell_type": "code",
   "execution_count": 4,
   "metadata": {},
   "outputs": [
    {
     "name": "stdout",
     "output_type": "stream",
     "text": [
      "From stephen.marquard@uct.ac.za Sat Jan  5 091416 2008\n",
      "From stephen.marquard@uct.ac.za\n",
      "From louis@media.berkeley.edu Fri Jan  4 181048 2008\n",
      "From louis@media.berkeley.edu\n",
      "From zqian@umich.edu Fri Jan  4 161039 2008\n",
      "From zqian@umich.edu\n",
      "From rjlowe@iupui.edu Fri Jan  4 154624 2008\n",
      "From rjlowe@iupui.edu\n",
      "From zqian@umich.edu Fri Jan  4 150318 2008\n",
      "From zqian@umich.edu\n",
      "From rjlowe@iupui.edu Fri Jan  4 145018 2008\n",
      "From rjlowe@iupui.edu\n",
      "From cwen@iupui.edu Fri Jan  4 113730 2008\n",
      "From cwen@iupui.edu\n",
      "From cwen@iupui.edu Fri Jan  4 113508 2008\n",
      "From cwen@iupui.edu\n",
      "From gsilver@umich.edu Fri Jan  4 111237 2008\n",
      "From gsilver@umich.edu\n",
      "From gsilver@umich.edu Fri Jan  4 111152 2008\n",
      "From gsilver@umich.edu\n",
      "From zqian@umich.edu Fri Jan  4 111103 2008\n",
      "From zqian@umich.edu\n",
      "From gsilver@umich.edu Fri Jan  4 111022 2008\n",
      "From gsilver@umich.edu\n",
      "From wagnermr@iupui.edu Fri Jan  4 103842 2008\n",
      "From wagnermr@iupui.edu\n",
      "From zqian@umich.edu Fri Jan  4 101743 2008\n",
      "From zqian@umich.edu\n",
      "From antranig@caret.cam.ac.uk Fri Jan  4 100414 2008\n",
      "From antranig@caret.cam.ac.uk\n",
      "From gopal.ramasammycook@gmail.com Fri Jan  4 090531 2008\n",
      "From gopal.ramasammycook@gmail.com\n",
      "From david.horwitz@uct.ac.za Fri Jan  4 070232 2008\n",
      "From david.horwitz@uct.ac.za\n",
      "From david.horwitz@uct.ac.za Fri Jan  4 060827 2008\n",
      "From david.horwitz@uct.ac.za\n",
      "From david.horwitz@uct.ac.za Fri Jan  4 044908 2008\n",
      "From david.horwitz@uct.ac.za\n",
      "From david.horwitz@uct.ac.za Fri Jan  4 043344 2008\n",
      "From david.horwitz@uct.ac.za\n",
      "From stephen.marquard@uct.ac.za Fri Jan  4 040734 2008\n",
      "From stephen.marquard@uct.ac.za\n",
      "From louis@media.berkeley.edu Thu Jan  3 195121 2008\n",
      "From louis@media.berkeley.edu\n",
      "From louis@media.berkeley.edu Thu Jan  3 171823 2008\n",
      "From louis@media.berkeley.edu\n",
      "From ray@media.berkeley.edu Thu Jan  3 170700 2008\n",
      "From ray@media.berkeley.edu\n",
      "From cwen@iupui.edu Thu Jan  3 163440 2008\n",
      "From cwen@iupui.edu\n",
      "From cwen@iupui.edu Thu Jan  3 162907 2008\n",
      "From cwen@iupui.edu\n",
      "From cwen@iupui.edu Thu Jan  3 162348 2008\n",
      "From cwen@iupui.edu\n"
     ]
    }
   ],
   "source": [
    "# from 이 들어간 문장을 찾는다.\n",
    "\n",
    "import re\n",
    "\n",
    "hand = open('e:/data/reg.txt')\n",
    "\n",
    "for line in hand:\n",
    "    line = line.rstrip()\n",
    "    if re.search('From',line):\n",
    "        print(line)"
   ]
  },
  {
   "cell_type": "code",
   "execution_count": null,
   "metadata": {},
   "outputs": [],
   "source": []
  }
 ],
 "metadata": {
  "kernelspec": {
   "display_name": "Python 3",
   "language": "python",
   "name": "python3"
  },
  "language_info": {
   "codemirror_mode": {
    "name": "ipython",
    "version": 3
   },
   "file_extension": ".py",
   "mimetype": "text/x-python",
   "name": "python",
   "nbconvert_exporter": "python",
   "pygments_lexer": "ipython3",
   "version": "3.6.3"
  }
 },
 "nbformat": 4,
 "nbformat_minor": 2
}
